{
  "nbformat": 4,
  "nbformat_minor": 0,
  "metadata": {
    "colab": {
      "name": "practice_mcts.ipynb",
      "provenance": []
    },
    "language_info": {
      "name": "python"
    },
    "kernelspec": {
      "name": "python3",
      "display_name": "Python 3"
    }
  },
  "cells": [
    {
      "cell_type": "markdown",
      "metadata": {
        "id": "0bv9vUgcqBte"
      },
      "source": [
        "## Seminar: Monte-carlo tree search (5 pts)\n",
        "\n",
        "Monte Carlo tree search (MCTS) is a heuristic search algorithm, which shows cool results in challenging domains such as Go and chess. The algorithm builds a search tree, iteratively traverses it, and evaluates its nodes using a Monte-Carlo simulation.\n",
        "\n",
        "In this seminar, we'll implement a MCTS([[1]](#1), [[2]](#2)) planning and use it to solve some Gym envs.\n",
        "\n",
        "![image.png](https://i.postimg.cc/6QmwnjPS/image.png)"
      ]
    },
    {
      "cell_type": "markdown",
      "metadata": {
        "id": "JeNei8yiqBtg"
      },
      "source": [
        "__How it works?__\n",
        "We just start with an empty tree and expand it. There are several common procedures.\n",
        "\n",
        "__1) Selection__\n",
        "Starting from the root, recursively select the node that corresponds to the tree policy.  \n",
        "\n",
        "There are several options for tree policies, which we saw earlier as exploration strategies: epsilon-greedy, Thomson sampling, UCB-1. It was shown that in MCTS, UCB-1 achieves a good result. Further, we will consider the one, but you can try to use others.\n",
        "\n",
        "Following the UCB-1 tree policy, we will choose an action that, on one hand, we expect to have the highest return, and on the other hand, we haven't explored much.\n",
        "\n",
        "$$\n",
        "\\DeclareMathOperator*{\\argmax}{arg\\,max}\n",
        "$$\n",
        "\n",
        "$$\n",
        "\\dot{a} = \\argmax_{a} \\dot{Q}(s, a)\n",
        "$$\n",
        "\n",
        "$$\n",
        "\\dot{Q}(s, a) = Q(s, a) + C_p \\sqrt{\\frac{2 \\log {N}}{n_a}}\n",
        "$$\n",
        "\n",
        "where: \n",
        "- $N$ - number of times we have visited state $s$,\n",
        "- $n_a$ - number of times we have taken action $a$,\n",
        "- $C_p$ - exploration balance parameter, which is performed between exploration and exploitation. \n",
        "\n",
        "Using Hoeffding inequality for rewards $R \\in [0,1]$ it can be shown [[3]](#3) that optimal $C_p = 1/\\sqrt{2}$. For rewards outside this range, the parameter should be tuned. We'll be using 10, but you can experiment with other values.\n",
        "\n",
        "__2) Expansion__\n",
        "After the selection procedure, we can achieve a leaf node or node in which we don't complete actions. In this case, we expand the tree by feasible actions and get new state nodes. \n",
        "\n",
        "__3) Simulation__\n",
        "How we can estimate node Q-values? The idea is to estimate action values for a given _rollout policy_ by averaging the return of many simulated trajectories from the current node. Simply, we can play with random or some special policy or use some model that can estimate it.\n",
        "\n",
        "__4) Backpropagation__\n",
        "The reward of the last simulation is backed up through the traversed nodes and propagates Q-value estimations, upwards to the root.\n",
        "\n",
        "$$\n",
        "Q({\\text{parent}}, a) = r + \\gamma \\cdot Q({\\text{child}}, a)\n",
        "$$\n",
        "\n",
        "There are a lot modifications of MCTS, more details about it you can find in this paper [[4]](#4)"
      ]
    },
    {
      "cell_type": "code",
      "metadata": {
        "id": "qQ-nIOLAqBth",
        "outputId": "1725d645-10c7-4a10-ac8f-568b0432ad8a",
        "colab": {
          "base_uri": "https://localhost:8080/"
        }
      },
      "source": [
        "import sys, os\n",
        "if 'google.colab' in sys.modules and not os.path.exists('.setup_complete'):\n",
        "    !wget -q https://raw.githubusercontent.com/yandexdataschool/Practical_RL/master/setup_colab.sh -O- | bash\n",
        "\n",
        "    !wget -q https://raw.githubusercontent.com/yandexdataschool/Practical_RL/coursera/grading.py -O ../grading.py\n",
        "    !wget -q https://raw.githubusercontent.com/yandexdataschool/Practical_RL/coursera/week6_outro/submit.py\n",
        "\n",
        "    !touch .setup_complete\n",
        "\n",
        "# This code creates a virtual display to draw game images on.\n",
        "# It will have no effect if your machine has a monitor.\n",
        "if type(os.environ.get(\"DISPLAY\")) is not str or len(os.environ.get(\"DISPLAY\")) == 0:\n",
        "    !bash ../xvfb start\n",
        "    os.environ['DISPLAY'] = ':1'"
      ],
      "execution_count": 1,
      "outputs": [
        {
          "output_type": "stream",
          "text": [
            "Selecting previously unselected package xvfb.\n",
            "(Reading database ... 160815 files and directories currently installed.)\n",
            "Preparing to unpack .../xvfb_2%3a1.19.6-1ubuntu4.9_amd64.deb ...\n",
            "Unpacking xvfb (2:1.19.6-1ubuntu4.9) ...\n",
            "Setting up xvfb (2:1.19.6-1ubuntu4.9) ...\n",
            "Processing triggers for man-db (2.8.3-2ubuntu0.1) ...\n",
            "Starting virtual X frame buffer: Xvfb.\n"
          ],
          "name": "stdout"
        }
      ]
    },
    {
      "cell_type": "code",
      "metadata": {
        "id": "Tn5F9sbJqBth"
      },
      "source": [
        "import numpy as np\n",
        "import matplotlib.pyplot as plt\n",
        "%matplotlib inline"
      ],
      "execution_count": 2,
      "outputs": []
    },
    {
      "cell_type": "markdown",
      "metadata": {
        "id": "qnVMxuueqBth"
      },
      "source": [
        "---\n",
        "\n",
        "But before we do that, we first need to make a wrapper for Gym environments to allow saving and loading game states to facilitate backtracking."
      ]
    },
    {
      "cell_type": "code",
      "metadata": {
        "id": "-ydlosz2qBti"
      },
      "source": [
        "import gym\n",
        "from gym.core import Wrapper\n",
        "from pickle import dumps, loads\n",
        "from collections import namedtuple\n",
        "\n",
        "# a container for get_result function below. Works just like tuple, but prettier\n",
        "ActionResult = namedtuple(\n",
        "    \"action_result\", (\"snapshot\", \"observation\", \"reward\", \"is_done\", \"info\"))\n",
        "\n",
        "\n",
        "class WithSnapshots(Wrapper):\n",
        "    \"\"\"\n",
        "    Creates a wrapper that supports saving and loading environemnt states.\n",
        "    Required for planning algorithms.\n",
        "\n",
        "    This class will have access to the core environment as self.env, e.g.:\n",
        "    - self.env.reset()           #reset original env\n",
        "    - self.env.ale.cloneState()  #make snapshot for atari. load with .restoreState()\n",
        "    - ...\n",
        "\n",
        "    You can also use reset() and step() directly for convenience.\n",
        "    - s = self.reset()                   # same as self.env.reset()\n",
        "    - s, r, done, _ = self.step(action)  # same as self.env.step(action)\n",
        "    \n",
        "    Note that while you may use self.render(), it will spawn a window that cannot be pickled.\n",
        "    Thus, you will need to call self.close() before pickling will work again.\n",
        "    \"\"\"\n",
        "\n",
        "    def get_snapshot(self, render=False):\n",
        "        \"\"\"\n",
        "        :returns: environment state that can be loaded with load_snapshot \n",
        "        Snapshots guarantee same env behaviour each time they are loaded.\n",
        "\n",
        "        Warning! Snapshots can be arbitrary things (strings, integers, json, tuples)\n",
        "        Don't count on them being pickle strings when implementing MCTS.\n",
        "\n",
        "        Developer Note: Make sure the object you return will not be affected by \n",
        "        anything that happens to the environment after it's saved.\n",
        "        You shouldn't, for example, return self.env. \n",
        "        In case of doubt, use pickle.dumps or deepcopy.\n",
        "\n",
        "        \"\"\"\n",
        "        if render:\n",
        "            self.render()  # close popup windows since we can't pickle them\n",
        "            self.close()\n",
        "            \n",
        "        if self.unwrapped.viewer is not None:\n",
        "            self.unwrapped.viewer.close()\n",
        "            self.unwrapped.viewer = None\n",
        "        return dumps(self.env)\n",
        "\n",
        "    def load_snapshot(self, snapshot, render=False):\n",
        "        \"\"\"\n",
        "        Loads snapshot as current env state.\n",
        "        Should not change snapshot inplace (in case of doubt, deepcopy).\n",
        "        \"\"\"\n",
        "\n",
        "        assert not hasattr(self, \"_monitor\") or hasattr(\n",
        "            self.env, \"_monitor\"), \"can't backtrack while recording\"\n",
        "\n",
        "        if render:\n",
        "            self.render()  # close popup windows since we can't load into them\n",
        "            self.close()\n",
        "        self.env = loads(snapshot)\n",
        "\n",
        "    def get_result(self, snapshot, action):\n",
        "        \"\"\"\n",
        "        A convenience function that \n",
        "        - loads snapshot, \n",
        "        - commits action via self.step,\n",
        "        - and takes snapshot again :)\n",
        "\n",
        "        :returns: next snapshot, next_observation, reward, is_done, info\n",
        "\n",
        "        Basically it returns next snapshot and everything that env.step would have returned.\n",
        "        \"\"\"\n",
        "        self.load_snapshot(snapshot)\n",
        "        s, r, done, info = self.step(action)\n",
        "        next_snapshot = self.get_snapshot()\n",
        "        \n",
        "        return ActionResult(next_snapshot,    #fill in the variables\n",
        "                            s, \n",
        "                            r, done, info)"
      ],
      "execution_count": 3,
      "outputs": []
    },
    {
      "cell_type": "markdown",
      "metadata": {
        "id": "J9HPWj1-qBtj"
      },
      "source": [
        "### Try out snapshots:\n",
        "Let`s check our wrapper. At first, reset environment and save it, further randomly play some actions and restore our environment from the snapshot. It should be the same as our previous initial state."
      ]
    },
    {
      "cell_type": "code",
      "metadata": {
        "id": "41DonEaPqBtj"
      },
      "source": [
        "# make env\n",
        "env = WithSnapshots(gym.make(\"CartPole-v0\"))\n",
        "env.reset()\n",
        "\n",
        "n_actions = env.action_space.n"
      ],
      "execution_count": 4,
      "outputs": []
    },
    {
      "cell_type": "code",
      "metadata": {
        "id": "mFLox2shqBtj",
        "outputId": "e4933105-d2e3-485f-c931-2e9a0e711bff",
        "colab": {
          "base_uri": "https://localhost:8080/",
          "height": 286
        }
      },
      "source": [
        "print(\"initial_state:\")\n",
        "plt.imshow(env.render('rgb_array'))\n",
        "env.close()\n",
        "\n",
        "# create first snapshot\n",
        "snap0 = env.get_snapshot()"
      ],
      "execution_count": 5,
      "outputs": [
        {
          "output_type": "stream",
          "text": [
            "initial_state:\n"
          ],
          "name": "stdout"
        },
        {
          "output_type": "display_data",
          "data": {
            "image/png": "[encoded data removed]",
            "text/plain": [
              "<Figure size 432x288 with 1 Axes>"
            ]
          },
          "metadata": {
            "tags": [],
            "needs_background": "light"
          }
        }
      ]
    },
    {
      "cell_type": "code",
      "metadata": {
        "id": "bDM5NYEfqBtk",
        "outputId": "36fb53a2-aa16-4fa0-8626-7aa0f6058a6e",
        "colab": {
          "base_uri": "https://localhost:8080/",
          "height": 302
        }
      },
      "source": [
        "# play without making snapshots (faster)\n",
        "while True:\n",
        "    is_done = env.step(env.action_space.sample())[2]\n",
        "    if is_done:\n",
        "        print(\"Whoops! We died!\")\n",
        "        break\n",
        "\n",
        "print(\"final state:\")\n",
        "plt.imshow(env.render('rgb_array'))\n",
        "env.close()"
      ],
      "execution_count": 6,
      "outputs": [
        {
          "output_type": "stream",
          "text": [
            "Whoops! We died!\n",
            "final state:\n"
          ],
          "name": "stdout"
        },
        {
          "output_type": "display_data",
          "data": {
            "image/png": "[encoded data removed]",
            "text/plain": [
              "<Figure size 432x288 with 1 Axes>"
            ]
          },
          "metadata": {
            "tags": [],
            "needs_background": "light"
          }
        }
      ]
    },
    {
      "cell_type": "code",
      "metadata": {
        "id": "BI1x-NIAqBtk",
        "outputId": "5f93b39c-40b3-4d4e-cacb-bda6e3cb05b4",
        "colab": {
          "base_uri": "https://localhost:8080/",
          "height": 319
        }
      },
      "source": [
        "# reload initial state\n",
        "env.load_snapshot(snap0)\n",
        "\n",
        "print(\"\\n\\nAfter loading snapshot\")\n",
        "plt.imshow(env.render('rgb_array'))\n",
        "env.close()"
      ],
      "execution_count": 7,
      "outputs": [
        {
          "output_type": "stream",
          "text": [
            "\n",
            "\n",
            "After loading snapshot\n"
          ],
          "name": "stdout"
        },
        {
          "output_type": "display_data",
          "data": {
            "image/png": "[encoded data removed]",
            "text/plain": [
              "<Figure size 432x288 with 1 Axes>"
            ]
          },
          "metadata": {
            "tags": [],
            "needs_background": "light"
          }
        }
      ]
    },
    {
      "cell_type": "code",
      "metadata": {
        "id": "WTYkwA2FqBtk"
      },
      "source": [
        "# get outcome (snapshot, observation, reward, is_done, info)\n",
        "res = env.get_result(snap0, env.action_space.sample())\n",
        "\n",
        "snap1, observation, reward = res[:3]\n",
        "\n",
        "# second step\n",
        "res2 = env.get_result(snap1, env.action_space.sample())"
      ],
      "execution_count": 8,
      "outputs": []
    },
    {
      "cell_type": "markdown",
      "metadata": {
        "id": "t-ux8IuHqBtk"
      },
      "source": [
        "# MCTS: Monte-Carlo tree search\n",
        "\n",
        "\n",
        "We will start by implementing the `Node` class - a simple class that acts like MCTS node and supports some of the MCTS algorithm steps.\n",
        "\n",
        "This MCTS implementation makes some assumptions about the environment, you can find those _in the notes section at the end of the notebook_."
      ]
    },
    {
      "cell_type": "code",
      "metadata": {
        "id": "WNtBOa0QqBtk"
      },
      "source": [
        "assert isinstance(env, WithSnapshots)"
      ],
      "execution_count": 9,
      "outputs": []
    },
    {
      "cell_type": "code",
      "metadata": {
        "id": "bQi_WEK9qBtl"
      },
      "source": [
        "class Node:\n",
        "    \"\"\"A tree node for MCTS.\n",
        "    \n",
        "    Each Node corresponds to the result of performing a particular action (self.action)\n",
        "    in a particular state (self.parent), and is essentially one arm in the multi-armed bandit that\n",
        "    we model in that state.\"\"\"\n",
        "\n",
        "    # metadata:\n",
        "    parent = None  # parent Node\n",
        "    qvalue_sum = 0.  # sum of Q-values from all visits (numerator)\n",
        "    times_visited = 0  # counter of visits (denominator)\n",
        "\n",
        "    def __init__(self, parent, action):\n",
        "        \"\"\"\n",
        "        Creates and empty node with no children.\n",
        "        Does so by commiting an action and recording outcome.\n",
        "\n",
        "        :param parent: parent Node\n",
        "        :param action: action to commit from parent Node\n",
        "        \"\"\"\n",
        "\n",
        "        self.parent = parent\n",
        "        self.action = action\n",
        "        self.children = set()  # set of child nodes\n",
        "\n",
        "        # get action outcome and save it\n",
        "        res = env.get_result(parent.snapshot, action)\n",
        "        self.snapshot, self.observation, self.immediate_reward, self.is_done, _ = res\n",
        "\n",
        "    def is_leaf(self):\n",
        "        return len(self.children) == 0\n",
        "\n",
        "    def is_root(self):\n",
        "        return self.parent is None\n",
        "\n",
        "    def get_qvalue_estimate(self):\n",
        "        return self.qvalue_sum / self.times_visited if self.times_visited != 0 else 0\n",
        "\n",
        "    def ucb_score(self, scale=10, max_value=1e100):\n",
        "        \"\"\"\n",
        "        Computes ucb1 upper bound using current value and visit counts for node and it's parent.\n",
        "\n",
        "        :param scale: Multiplies upper bound by that. From Hoeffding inequality,\n",
        "                      assumes reward range to be [0, scale].\n",
        "        :param max_value: a value that represents infinity (for unvisited nodes).\n",
        "\n",
        "        \"\"\"\n",
        "\n",
        "        if self.times_visited == 0:\n",
        "            return max_value\n",
        "\n",
        "        # compute ucb-1 additive component (to be added to mean value)\n",
        "        # hint: you can use self.parent.times_visited for N times node was considered,\n",
        "        # and self.times_visited for n times it was visited\n",
        "\n",
        "        U = np.sqrt(2*np.log(self.parent.times_visited)/self.times_visited)\n",
        "\n",
        "        return self.get_qvalue_estimate() + scale * U\n",
        "\n",
        "    # MCTS steps\n",
        "\n",
        "    def select_best_leaf(self):\n",
        "        \"\"\"\n",
        "        Picks the leaf with the highest priority to expand.\n",
        "        Does so by recursively picking nodes with the best UCB-1 score until it reaches a leaf.\n",
        "        \"\"\"\n",
        "        if self.is_leaf():\n",
        "            return self\n",
        "\n",
        "        children = self.children\n",
        "\n",
        "        # Select the child node with the highest UCB score. You might want to implement some heuristics\n",
        "        # to break ties in a smart way, although CartPole should work just fine without them.\n",
        "        best_child = max([(child.ucb_score(), child) for child in children], key=lambda x: x[0])[1]\n",
        "\n",
        "        return best_child.select_best_leaf()\n",
        "\n",
        "    def expand(self):\n",
        "        \"\"\"\n",
        "        Expands the current node by creating all possible child nodes.\n",
        "        Then returns one of those children.\n",
        "        \"\"\"\n",
        "\n",
        "        assert not self.is_done, \"can't expand from terminal state\"\n",
        "\n",
        "        for action in range(n_actions):\n",
        "            self.children.add(Node(self, action))\n",
        "\n",
        "        # If you have implemented any heuristics in select_best_leaf(), they will be used here.\n",
        "        # Otherwise, this is equivalent to picking some undefined newly created child node.\n",
        "        return self.select_best_leaf()\n",
        "\n",
        "    def rollout(self, t_max=10**4):\n",
        "        \"\"\"\n",
        "        Play the game from this state to the end (done) or for t_max steps.\n",
        "\n",
        "        On each step, pick action at random (hint: env.action_space.sample()).\n",
        "\n",
        "        Compute sum of rewards from the current state until the end of the episode.\n",
        "        Note 1: use env.action_space.sample() for picking a random action.\n",
        "        Note 2: if the node is terminal (self.is_done is True), just return self.immediate_reward.\n",
        "\n",
        "        \"\"\"\n",
        "\n",
        "        # set env into the appropriate state\n",
        "        env.load_snapshot(self.snapshot)\n",
        "        obs = self.observation\n",
        "        is_done = self.is_done\n",
        "\n",
        "        rollout_reward = 0\n",
        "        while not is_done and t_max>0:\n",
        "            t_max-=1\n",
        "            _, r, is_done, _ = env.step(env.action_space.sample())\n",
        "            rollout_reward += r\n",
        "\n",
        "        return rollout_reward\n",
        "\n",
        "    def propagate(self, child_qvalue):\n",
        "        \"\"\"\n",
        "        Uses child Q-value (sum of rewards) to update parents recursively.\n",
        "        \"\"\"\n",
        "        # compute node Q-value\n",
        "        my_qvalue = self.immediate_reward + child_qvalue\n",
        "\n",
        "        # update qvalue_sum and times_visited\n",
        "        self.qvalue_sum += my_qvalue\n",
        "        self.times_visited += 1\n",
        "\n",
        "        # propagate upwards\n",
        "        if not self.is_root():\n",
        "            self.parent.propagate(my_qvalue)\n",
        "\n",
        "    def safe_delete(self):\n",
        "        \"\"\"safe delete to prevent memory leak in some python versions\"\"\"\n",
        "        del self.parent\n",
        "        for child in self.children:\n",
        "            child.safe_delete()\n",
        "            del child"
      ],
      "execution_count": 12,
      "outputs": []
    },
    {
      "cell_type": "code",
      "metadata": {
        "id": "Xndb9pJWqBtm"
      },
      "source": [
        "class Root(Node):\n",
        "    def __init__(self, snapshot, observation):\n",
        "        \"\"\"\n",
        "        creates special node that acts like tree root\n",
        "        :snapshot: snapshot (from env.get_snapshot) to start planning from\n",
        "        :observation: last environment observation\n",
        "        \"\"\"\n",
        "\n",
        "        self.parent = self.action = None\n",
        "        self.children = set()  # set of child nodes\n",
        "\n",
        "        # root: load snapshot and observation\n",
        "        self.snapshot = snapshot\n",
        "        self.observation = observation\n",
        "        self.immediate_reward = 0\n",
        "        self.is_done = False\n",
        "\n",
        "    @staticmethod\n",
        "    def from_node(node):\n",
        "        \"\"\"initializes node as root\"\"\"\n",
        "        root = Root(node.snapshot, node.observation)\n",
        "        # copy data\n",
        "        copied_fields = [\"qvalue_sum\", \"times_visited\", \"children\", \"is_done\"]\n",
        "        for field in copied_fields:\n",
        "            setattr(root, field, getattr(node, field))\n",
        "        return root"
      ],
      "execution_count": 13,
      "outputs": []
    },
    {
      "cell_type": "markdown",
      "metadata": {
        "id": "URFDz9aKqBto"
      },
      "source": [
        "## Main MCTS loop\n",
        "\n",
        "With all we implemented, MCTS boils down to a trivial piece of code."
      ]
    },
    {
      "cell_type": "code",
      "metadata": {
        "id": "hjdRRXwiqBto"
      },
      "source": [
        "def plan_mcts(root, n_iters=10):\n",
        "    \"\"\"\n",
        "    builds tree with monte-carlo tree search for n_iters iterations\n",
        "    :param root: tree node to plan from\n",
        "    :param n_iters: how many select-expand-simulate-propagete loops to make\n",
        "    \"\"\"\n",
        "    for _ in range(n_iters):\n",
        "        node = root.select_best_leaf()\n",
        "\n",
        "        if node.is_done:\n",
        "            # All rollouts from a terminal node are empty, and thus have 0 reward.\n",
        "            node.propagate(0)\n",
        "        else:\n",
        "            # Expand the best leaf. Perform a rollout from it. Propagate the results upwards.\n",
        "            # Note that here you have some leeway in choosing where to propagate from.\n",
        "            # Any reasonable choice should work.\n",
        "            \n",
        "            node_child = node.expand()\n",
        "            child_reward = node_child.rollout()\n",
        "            node.propagate(child_reward)"
      ],
      "execution_count": 14,
      "outputs": []
    },
    {
      "cell_type": "markdown",
      "metadata": {
        "id": "peJzke2rqBto"
      },
      "source": [
        "## Plan and execute\n",
        "\n",
        "Let's use our MCTS implementation to find the optimal policy."
      ]
    },
    {
      "cell_type": "code",
      "metadata": {
        "id": "yIGR5HnYqBto"
      },
      "source": [
        "env = WithSnapshots(gym.make(\"CartPole-v0\"))\n",
        "root_observation = env.reset()\n",
        "root_snapshot = env.get_snapshot()\n",
        "root = Root(root_snapshot, root_observation)"
      ],
      "execution_count": 15,
      "outputs": []
    },
    {
      "cell_type": "code",
      "metadata": {
        "id": "eVwP7fMaqBtp"
      },
      "source": [
        "# plan from root:\n",
        "plan_mcts(root, n_iters=1000)"
      ],
      "execution_count": 16,
      "outputs": []
    },
    {
      "cell_type": "code",
      "metadata": {
        "id": "7yGTrCzjqBtp"
      },
      "source": [
        "# import copy\n",
        "# saved_root = copy.deepcopy(root)\n",
        "# root = saved_root"
      ],
      "execution_count": 17,
      "outputs": []
    },
    {
      "cell_type": "code",
      "metadata": {
        "id": "OaQOOSjJqBtp",
        "outputId": "1c57159d-4cc9-4dde-d320-8bb459926e83",
        "colab": {
          "base_uri": "https://localhost:8080/",
          "height": 298
        }
      },
      "source": [
        "\n",
        "from IPython.display import clear_output\n",
        "from itertools import count\n",
        "from gym.wrappers import Monitor\n",
        "\n",
        "total_reward = 0                #sum of rewards\n",
        "test_env = loads(root_snapshot) #env used to show progress\n",
        "\n",
        "for i in count():\n",
        "    \n",
        "    #get best child\n",
        "#     best_child = <select child with highest mean reward>\n",
        "    best_child = max([(child.get_qvalue_estimate(), child) for child in root.children], key=lambda x: x[0])[1]\n",
        "    \n",
        "    #take action\n",
        "    s,r,done,_ = test_env.step(best_child.action)\n",
        "    \n",
        "    #show image\n",
        "    clear_output(True)\n",
        "    plt.title(\"step %i\"%i)\n",
        "    plt.imshow(test_env.render('rgb_array'))\n",
        "    plt.show()\n",
        "\n",
        "    total_reward += r\n",
        "    if done:\n",
        "        print(\"Finished with reward = \",total_reward)\n",
        "        break\n",
        "    \n",
        "    #discard unrealized part of the tree [because not every child matters :(]\n",
        "    for child in root.children:\n",
        "        if child != best_child:\n",
        "            child.safe_delete()\n",
        "\n",
        "    #declare best child a new root\n",
        "    root = Root.from_node(best_child)\n",
        "    \n",
        "#     assert not root.is_leaf(), \"We ran out of tree! Need more planning! Try growing tree right inside the loop.\"\n",
        "    \n",
        "    #you may want to expand tree here\n",
        "    #<your code here>\n",
        "    if root.is_leaf():\n",
        "        plan_mcts(root,n_iters=10)"
      ],
      "execution_count": 21,
      "outputs": [
        {
          "output_type": "display_data",
          "data": {
            "image/png": "[encoded data removed]",
            "text/plain": [
              "<Figure size 432x288 with 1 Axes>"
            ]
          },
          "metadata": {
            "tags": [],
            "needs_background": "light"
          }
        },
        {
          "output_type": "stream",
          "text": [
            "Finished with reward =  200.0\n"
          ],
          "name": "stdout"
        }
      ]
    },
    {
      "cell_type": "code",
      "metadata": {
        "id": "cdTUjr5dqBtp",
        "outputId": "d90ae8b7-2a3c-44a1-e8f4-7bde81d5dd2c",
        "colab": {
          "base_uri": "https://localhost:8080/"
        }
      },
      "source": [
        "from submit import submit_mcts\n",
        "\n",
        "submit_mcts(total_reward, 'Armanbehnam1996@gmail.com', 'vHimkzXLzdXvRHY6')"
      ],
      "execution_count": 22,
      "outputs": [
        {
          "output_type": "stream",
          "text": [
            "Submitted to Coursera platform. See results on assignment page!\n"
          ],
          "name": "stdout"
        }
      ]
    },
    {
      "cell_type": "markdown",
      "metadata": {
        "id": "XIg3k9t1qBtp"
      },
      "source": [
        "## Bonus assignments (10+pts each)\n",
        "\n",
        "There's a few things you might want to try if you want to dig deeper:\n",
        "\n",
        "### Node selection and expansion\n",
        "\n",
        "\"Analyze this\" assignment\n",
        "\n",
        "UCB-1 is a weak bound as it relies on a very general bounds (Hoeffding Inequality, to be exact). \n",
        "* Try playing with the exploration parameter $C_p$. The theoretically optimal $C_p$ you can get from a max reward of the environment (max reward for CartPole is 200).\n",
        "* Use using a different exploration strategy (bayesian UCB, for example)\n",
        "* Expand not all but several random actions per `expand` call. See __the notes below__ for details.\n",
        "\n",
        "The goal is to find out what gives the optimal performance for `CartPole-v0` for different time budgets (i.e. different n_iter in plan_mcts.)\n",
        "\n",
        "Evaluate your results on `Acrobot-v1` - do the results change and if so, how can you explain it?\n",
        "\n",
        "\n",
        "### Atari-RAM\n",
        "\n",
        "\"Build this\" assignment\n",
        "\n",
        "Apply MCTS to play Atari games. In particular, let's start with ```gym.make(\"MsPacman-ramDeterministic-v0\")```.\n",
        "\n",
        "This requires two things:\n",
        "* Slightly modify WithSnapshots wrapper to work with atari.\n",
        "\n",
        " * Atari has a special interface for snapshots:\n",
        "   ```   \n",
        "   snapshot = self.env.ale.cloneState()\n",
        "   ...\n",
        "   self.env.ale.restoreState(snapshot)\n",
        "   ```\n",
        " * Try it on the env above to make sure it does what you told it to.\n",
        " \n",
        "* Run MCTS on the game above. \n",
        " * Start with small tree size to speed-up computations\n",
        " * You will probably want to rollout for 10-100 steps (t_max) for starters\n",
        " * Consider using discounted rewards (see __notes at the end__)\n",
        " * Try a better rollout policy\n",
        " \n",
        " \n",
        "### Integrate learning into planning\n",
        "\n",
        "Planning on each iteration is a costly thing to do. You can speed things up drastically if you train a classifier to predict which action will turn out to be best according to MCTS.\n",
        "\n",
        "To do so, just record which action did the MCTS agent take on each step and fit something to [state, mcts_optimal_action]\n",
        "* You can also use optimal actions from discarded states to get more (dirty) samples. Just don't forget to fine-tune without them.\n",
        "* It's also worth a try to use P(best_action|state) from your model to select best nodes in addition to UCB\n",
        "* If your model is lightweight enough, try using it as a rollout policy.\n",
        "\n",
        "While CartPole is glorious enough, try expanding this to ```gym.make(\"MsPacmanDeterministic-v0\")```\n",
        "* See previous section on how to wrap atari\n",
        "\n",
        "* Also consider what [AlphaGo Zero](https://deepmind.com/blog/alphago-zero-learning-scratch/) did in this area.\n",
        "\n",
        "### Integrate planning into learning \n",
        "_(this will likely take long time, better consider this as side project when all other deadlines are met)_\n",
        "\n",
        "Incorporate planning into the agent architecture. The goal is to implement [Value Iteration Networks](https://arxiv.org/abs/1602.02867).\n",
        "\n",
        "Remember [week5 assignment](https://github.com/yandexdataschool/Practical_RL/blob/coursera/week5_policy_based/practice_a3c.ipynb)? You will need to switch it into a maze-like game, like MsPacman, and implement a special layer that performs value iteration-like update to a recurrent memory. This can be implemented the same way you did in the POMDP assignment."
      ]
    },
    {
      "cell_type": "markdown",
      "metadata": {
        "id": "q7OOHUj5qBtq"
      },
      "source": [
        "## Notes\n",
        "\n",
        "\n",
        "#### Assumptions\n",
        "\n",
        "The full list of assumptions is:\n",
        "\n",
        "* __Finite number of actions__: we enumerate all actions in `expand`.\n",
        "* __Episodic (finite) MDP__: while technically it works for infinite MDPs, we perform a rollout for $10^4$ steps. If you are knowingly infinite, please adjust `t_max` to something more reasonable.\n",
        "* __Deterministic MDP__: `Node` represents the single outcome of taking `self.action` in `self.parent`, and does not support the situation where taking an action in a state may lead to different rewards and next states.\n",
        "* __No discounted rewards__: we assume $\\gamma=1$. If that isn't the case, you only need to change two lines in `rollout()` and use `my_qvalue = self.immediate_reward + gamma * child_qvalue` for `propagate()`.\n",
        "* __pickleable env__: won't work if e.g. your env is connected to a web-browser surfing the internet. For custom envs, you may need to modify get_snapshot/load_snapshot from `WithSnapshots`.\n",
        "\n",
        "#### On `get_best_leaf` and `expand` functions\n",
        "\n",
        "This MCTS implementation only selects leaf nodes for expansion.\n",
        "This doesn't break things down because `expand` adds all possible actions. Hence, all non-leaf nodes are by design fully expanded and shouldn't be selected.\n",
        "\n",
        "If you want to only add a few random action on each expand, you will also have to modify `get_best_leaf` to consider returning non-leafs.\n",
        "\n",
        "#### Rollout policy\n",
        "\n",
        "We use a simple uniform policy for rollouts. This introduces a negative bias to good situations that can be messed up completely with random bad action. As a simple example, if you tend to rollout with uniform policy, you better don't use sharp knives and walk near cliffs.\n",
        "\n",
        "You can improve that by integrating a reinforcement _learning_ algorithm with a computationally light agent. You can even train this agent on optimal policy found by the tree search.\n",
        "\n",
        "#### Contributions\n",
        "* Reusing some code from 5vision [solution for deephack.RL](https://github.com/5vision/uct_atari), code by Mikhail Pavlov\n",
        "* Using some code from [this gist](https://gist.github.com/blole/dfebbec182e6b72ec16b66cc7e331110)\n",
        "\n",
        "#### References\n",
        "* <a id=\"1\">[1]</a> _Coulom R. (2007) Efficient Selectivity and Backup Operators in Monte-Carlo Tree Search. In: van den Herik H.J., Ciancarini P., Donkers H.H.L.M.. (eds) Computers and Games. CG 2006. Lecture Notes in Computer Science, vol 4630. Springer, Berlin, Heidelberg_\n",
        "\n",
        "* <a id=\"2\">[2]</a> _Kocsis L., Szepesvári C. (2006) Bandit Based Monte-Carlo Planning. In: Fürnkranz J., Scheffer T., Spiliopoulou M. (eds) Machine Learning: ECML 2006. ECML 2006. Lecture Notes in Computer Science, vol 4212. Springer, Berlin, Heidelberg_\n",
        "\n",
        "* <a id=\"3\">[3]</a> _Kocsis, Levente, Csaba Szepesvári, and Jan Willemson. \"Improved monte-carlo search.\" Univ. Tartu, Estonia, Tech. Rep 1 (2006)._\n",
        "\n",
        "* <a id=\"4\">[4]</a> _C. B. Browne et al., \"A Survey of Monte Carlo Tree Search Methods,\" in IEEE Transactions on Computational Intelligence and AI in Games, vol. 4, no. 1, pp. 1-43, March 2012, doi: 10.1109/TCIAIG.2012.2186810._"
      ]
    },
    {
      "cell_type": "code",
      "metadata": {
        "id": "rRtOasogqBtq"
      },
      "source": [
        ""
      ],
      "execution_count": null,
      "outputs": []
    }
  ]
}