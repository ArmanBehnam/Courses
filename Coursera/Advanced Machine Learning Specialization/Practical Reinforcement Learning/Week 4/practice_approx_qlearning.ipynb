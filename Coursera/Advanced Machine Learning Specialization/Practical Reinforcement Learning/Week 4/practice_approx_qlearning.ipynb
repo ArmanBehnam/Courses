{
  "nbformat": 4,
  "nbformat_minor": 0,
  "metadata": {
    "colab": {
      "name": "practice_approx_qlearning.ipynb",
      "provenance": []
    },
    "language_info": {
      "name": "python"
    },
    "kernelspec": {
      "name": "python3",
      "display_name": "Python 3"
    }
  },
  "cells": [
    {
      "cell_type": "markdown",
      "metadata": {
        "id": "yfXvI5MkO6dc"
      },
      "source": [
        "# Approximate q-learning\n",
        "\n",
        "In this notebook you will teach a __tensorflow__ neural network to do Q-learning."
      ]
    },
    {
      "cell_type": "markdown",
      "metadata": {
        "id": "twboBJTAO6dg"
      },
      "source": [
        "__Frameworks__ - we'll accept this homework in any deep learning framework. This particular notebook was designed for tensorflow, but you will find it easy to adapt it to almost any python-based deep learning framework."
      ]
    },
    {
      "cell_type": "code",
      "metadata": {
        "id": "MPyh-wNTO6dg",
        "outputId": "1684e16d-c02a-4243-ff20-b0839c43e316",
        "colab": {
          "base_uri": "https://localhost:8080/"
        }
      },
      "source": [
        "import sys, os\n",
        "if 'google.colab' in sys.modules:\n",
        "    %tensorflow_version 1.x\n",
        "    \n",
        "    if not os.path.exists('.setup_complete'):\n",
        "        !wget -q https://raw.githubusercontent.com/yandexdataschool/Practical_RL/master/setup_colab.sh -O- | bash\n",
        "\n",
        "        !wget -q https://raw.githubusercontent.com/yandexdataschool/Practical_RL/coursera/grading.py -O ../grading.py\n",
        "        !wget -q https://raw.githubusercontent.com/yandexdataschool/Practical_RL/coursera/week4_approx/submit.py\n",
        "\n",
        "        !touch .setup_complete\n",
        "\n",
        "# This code creates a virtual display to draw game images on.\n",
        "# It will have no effect if your machine has a monitor.\n",
        "if type(os.environ.get(\"DISPLAY\")) is not str or len(os.environ.get(\"DISPLAY\")) == 0:\n",
        "    !bash ../xvfb start\n",
        "    os.environ['DISPLAY'] = ':1'"
      ],
      "execution_count": 1,
      "outputs": [
        {
          "output_type": "stream",
          "text": [
            "TensorFlow 1.x selected.\n",
            "Selecting previously unselected package xvfb.\n",
            "(Reading database ... 160837 files and directories currently installed.)\n",
            "Preparing to unpack .../xvfb_2%3a1.19.6-1ubuntu4.9_amd64.deb ...\n",
            "Unpacking xvfb (2:1.19.6-1ubuntu4.9) ...\n",
            "Setting up xvfb (2:1.19.6-1ubuntu4.9) ...\n",
            "Processing triggers for man-db (2.8.3-2ubuntu0.1) ...\n",
            "Starting virtual X frame buffer: Xvfb.\n"
          ],
          "name": "stdout"
        }
      ]
    },
    {
      "cell_type": "code",
      "metadata": {
        "id": "PS-2XxHxO6dh"
      },
      "source": [
        "import gym\n",
        "import numpy as np\n",
        "import pandas as pd\n",
        "import matplotlib.pyplot as plt\n",
        "%matplotlib inline"
      ],
      "execution_count": 2,
      "outputs": []
    },
    {
      "cell_type": "code",
      "metadata": {
        "id": "AT0-CyAVO6dh",
        "outputId": "048fdc72-fb55-496a-995f-0daf6b5f1714",
        "colab": {
          "base_uri": "https://localhost:8080/",
          "height": 286
        }
      },
      "source": [
        "env = gym.make(\"CartPole-v0\").env\n",
        "env.reset()\n",
        "n_actions = env.action_space.n\n",
        "state_dim = env.observation_space.shape\n",
        "\n",
        "plt.imshow(env.render(\"rgb_array\"))"
      ],
      "execution_count": 3,
      "outputs": [
        {
          "output_type": "execute_result",
          "data": {
            "text/plain": [
              "<matplotlib.image.AxesImage at 0x7fc7d7bd3d10>"
            ]
          },
          "metadata": {
            "tags": []
          },
          "execution_count": 3
        },
        {
          "output_type": "display_data",
          "data": {
            "image/png": "[encoded data removed]",
            "text/plain": [
              "<Figure size 432x288 with 1 Axes>"
            ]
          },
          "metadata": {
            "tags": [],
            "needs_background": "light"
          }
        }
      ]
    },
    {
      "cell_type": "markdown",
      "metadata": {
        "id": "De3fx7CEO6dh"
      },
      "source": [
        "# Approximate (deep) Q-learning: building the network\n",
        "\n",
        "To train a neural network policy one must have a neural network policy. Let's build it.\n",
        "\n",
        "\n",
        "Since we're working with a pre-extracted features (cart positions, angles and velocities), we don't need a complicated network yet. In fact, let's build something like this for starters:\n",
        "\n",
        "![img](https://raw.githubusercontent.com/yandexdataschool/Practical_RL/master/yet_another_week/_resource/qlearning_scheme.png)\n",
        "\n",
        "For your first run, please only use linear layers (`L.Dense`) and activations. Stuff like batch normalization or dropout may ruin everything if used haphazardly. \n",
        "\n",
        "Also please avoid using nonlinearities like sigmoid & tanh: since agent's observations are not normalized, sigmoids might be saturated at initialization. Instead, use non-saturating nonlinearities like ReLU.\n",
        "\n",
        "Ideally you should start small with maybe 1-2 hidden layers with < 200 neurons and then increase network size if agent doesn't beat the target score."
      ]
    },
    {
      "cell_type": "code",
      "metadata": {
        "id": "TQHoq_L0O6di",
        "outputId": "9163fb99-2f58-49c6-d72e-ff5564f7f1ec",
        "colab": {
          "base_uri": "https://localhost:8080/"
        }
      },
      "source": [
        "import tensorflow as tf\n",
        "import keras\n",
        "import keras.layers as L\n",
        "tf.reset_default_graph()\n",
        "sess = tf.InteractiveSession()\n",
        "keras.backend.set_session(sess)"
      ],
      "execution_count": 4,
      "outputs": [
        {
          "output_type": "stream",
          "text": [
            "Using TensorFlow backend.\n"
          ],
          "name": "stderr"
        }
      ]
    },
    {
      "cell_type": "code",
      "metadata": {
        "id": "_UeUaLYIO6di"
      },
      "source": [
        "assert not tf.test.is_gpu_available(), \\\n",
        "    \"Please complete this assignment without a GPU. If you use a GPU, the code \" \\\n",
        "    \"will run a lot slower due to a lot of copying to and from GPU memory. \" \\\n",
        "    \"To disable the GPU in Colab, go to Runtime → Change runtime type → None.\""
      ],
      "execution_count": 5,
      "outputs": []
    },
    {
      "cell_type": "code",
      "metadata": {
        "id": "OEscubbXO6dj",
        "outputId": "a82dccc7-f1c1-41b7-8d40-f33d216c9c7d",
        "colab": {
          "base_uri": "https://localhost:8080/"
        }
      },
      "source": [
        "network = keras.models.Sequential()\n",
        "network.add(L.InputLayer(state_dim))\n",
        "\n",
        "network.add(L.Dense(32,activation=\"relu\"))\n",
        "\n",
        "network.add(L.Dense(n_actions))"
      ],
      "execution_count": 6,
      "outputs": [
        {
          "output_type": "stream",
          "text": [
            "WARNING:tensorflow:From /tensorflow-1.15.2/python3.7/tensorflow_core/python/ops/resource_variable_ops.py:1630: calling BaseResourceVariable.__init__ (from tensorflow.python.ops.resource_variable_ops) with constraint is deprecated and will be removed in a future version.\n",
            "Instructions for updating:\n",
            "If using Keras pass *_constraint arguments to layers.\n"
          ],
          "name": "stdout"
        }
      ]
    },
    {
      "cell_type": "code",
      "metadata": {
        "id": "LymQI8b2O6dj"
      },
      "source": [
        "def get_action(state, epsilon=0):\n",
        "    \"\"\"\n",
        "    sample actions with epsilon-greedy policy\n",
        "    recap: with p = epsilon pick random action, else pick action with highest Q(s,a)\n",
        "    \"\"\"\n",
        "    \n",
        "    q_values = network.predict(state[None])[0]\n",
        "    if random.random() < epsilon:\n",
        "        return random.choice([0,1])\n",
        "    else:\n",
        "        return np.argmax(q_values)\n",
        "\n",
        "    #return <YOUR CODE: epsilon-greedily selected action>"
      ],
      "execution_count": 7,
      "outputs": []
    },
    {
      "cell_type": "code",
      "metadata": {
        "id": "mpv8rvN3O6dj",
        "outputId": "c5869165-2cdd-4429-a59c-3c878526cb34",
        "colab": {
          "base_uri": "https://localhost:8080/"
        }
      },
      "source": [
        "import random\n",
        "assert network.output_shape == (None, n_actions), \"please make sure your model maps state s -> [Q(s,a0), ..., Q(s, a_last)]\"\n",
        "assert network.layers[-1].activation == keras.activations.linear, \"please make sure you predict q-values without nonlinearity\"\n",
        "\n",
        "# test epsilon-greedy exploration\n",
        "s = env.reset()\n",
        "assert np.shape(get_action(s)) == (), \"please return just one action (integer)\"\n",
        "for eps in [0., 0.1, 0.5, 1.0]:\n",
        "    state_frequencies = np.bincount([get_action(s, epsilon=eps) for i in range(10000)], minlength=n_actions)\n",
        "    best_action = state_frequencies.argmax()\n",
        "    assert abs(state_frequencies[best_action] - 10000 * (1 - eps + eps / n_actions)) < 200\n",
        "    for other_action in range(n_actions):\n",
        "        if other_action != best_action:\n",
        "            assert abs(state_frequencies[other_action] - 10000 * (eps / n_actions)) < 200\n",
        "    print('e=%.1f tests passed'%eps)"
      ],
      "execution_count": 9,
      "outputs": [
        {
          "output_type": "stream",
          "text": [
            "e=0.0 tests passed\n",
            "e=0.1 tests passed\n",
            "e=0.5 tests passed\n",
            "e=1.0 tests passed\n"
          ],
          "name": "stdout"
        }
      ]
    },
    {
      "cell_type": "markdown",
      "metadata": {
        "id": "Z3YCShcvO6dk"
      },
      "source": [
        "### Q-learning via gradient descent\n",
        "\n",
        "We shall now train our agent's Q-function by minimizing the TD loss:\n",
        "$$ L = { 1 \\over N} \\sum_i (Q_{\\theta}(s,a) - [r(s,a) + \\gamma \\cdot max_{a'} Q_{-}(s', a')]) ^2 $$\n",
        "\n",
        "\n",
        "Where\n",
        "* $s, a, r, s'$ are current state, action, reward and next state respectively\n",
        "* $\\gamma$ is a discount factor defined two cells above.\n",
        "\n",
        "The tricky part is with  $Q_{-}(s',a')$. From an engineering standpoint, it's the same as $Q_{\\theta}$ - the output of your neural network policy. However, when doing gradient descent, __we won't propagate gradients through it__ to make training more stable (see lectures).\n",
        "\n",
        "To do so, we shall use `tf.stop_gradient` function which basically says \"consider this thing constant when doingbackprop\"."
      ]
    },
    {
      "cell_type": "code",
      "metadata": {
        "id": "IXaoTExBO6dk"
      },
      "source": [
        "# Create placeholders for the <s, a, r, s'> tuple and a special indicator for game end (is_done = True)\n",
        "states_ph = keras.backend.placeholder(dtype='float32', shape=(None,) + state_dim)\n",
        "actions_ph = keras.backend.placeholder(dtype='int32', shape=[None])\n",
        "rewards_ph = keras.backend.placeholder(dtype='float32', shape=[None])\n",
        "next_states_ph = keras.backend.placeholder(dtype='float32', shape=(None,) + state_dim)\n",
        "is_done_ph = keras.backend.placeholder(dtype='bool', shape=[None])"
      ],
      "execution_count": 10,
      "outputs": []
    },
    {
      "cell_type": "code",
      "metadata": {
        "id": "kODvskXlO6dk"
      },
      "source": [
        "#get q-values for all actions in current states\n",
        "predicted_qvalues = network(states_ph)\n",
        "\n",
        "#select q-values for chosen actions\n",
        "predicted_qvalues_for_actions = tf.reduce_sum(predicted_qvalues * tf.one_hot(actions_ph, n_actions), axis=1)"
      ],
      "execution_count": 11,
      "outputs": []
    },
    {
      "cell_type": "code",
      "metadata": {
        "id": "rcuOmJxZO6dk",
        "outputId": "8dddd1e6-8359-4dc2-cb5a-2aa78d9db167",
        "colab": {
          "base_uri": "https://localhost:8080/"
        }
      },
      "source": [
        "gamma = 0.99\n",
        "\n",
        "# compute q-values for all actions in next states\n",
        "predicted_next_qvalues = network(next_states_ph)#<YOUR CODE - apply network to get q-values for next_states_ph>\n",
        "\n",
        "# compute V*(next_states) using predicted next q-values\n",
        "next_state_values = tf.reduce_max(predicted_next_qvalues,axis=1)#<YOUR CODE>\n",
        "\n",
        "# compute \"target q-values\" for loss - it's what's inside square parentheses in the above formula.\n",
        "target_qvalues_for_actions = rewards_ph + gamma * next_state_values\n",
        "\n",
        "# at the last state we shall use simplified formula: Q(s,a) = r(s,a) since s' doesn't exist\n",
        "target_qvalues_for_actions = tf.where(is_done_ph, rewards_ph, target_qvalues_for_actions)"
      ],
      "execution_count": 12,
      "outputs": [
        {
          "output_type": "stream",
          "text": [
            "WARNING:tensorflow:From <ipython-input-12-5215e50deddf>:13: where (from tensorflow.python.ops.array_ops) is deprecated and will be removed in a future version.\n",
            "Instructions for updating:\n",
            "Use tf.where in 2.0, which has the same broadcast rule as np.where\n"
          ],
          "name": "stdout"
        }
      ]
    },
    {
      "cell_type": "code",
      "metadata": {
        "id": "NAPFCNPcO6dl"
      },
      "source": [
        "#mean squared error loss to minimize\n",
        "loss = (predicted_qvalues_for_actions - tf.stop_gradient(target_qvalues_for_actions)) ** 2\n",
        "loss = tf.reduce_mean(loss)\n",
        "\n",
        "# training function that resembles agent.update(state, action, reward, next_state) from tabular agent\n",
        "train_step = tf.train.AdamOptimizer(1e-4).minimize(loss)"
      ],
      "execution_count": 13,
      "outputs": []
    },
    {
      "cell_type": "code",
      "metadata": {
        "id": "88XztwL-O6dl"
      },
      "source": [
        "assert tf.gradients(loss, [predicted_qvalues_for_actions])[0] is not None, \"make sure you update q-values for chosen actions and not just all actions\"\n",
        "assert tf.gradients(loss, [predicted_next_qvalues])[0] is None, \"make sure you don't propagate gradient w.r.t. Q_(s',a')\"\n",
        "assert predicted_next_qvalues.shape.ndims == 2, \"make sure you predicted q-values for all actions in next state\"\n",
        "assert next_state_values.shape.ndims == 1, \"make sure you computed V(s') as maximum over just the actions axis and not all axes\"\n",
        "assert target_qvalues_for_actions.shape.ndims == 1, \"there's something wrong with target q-values, they must be a vector\""
      ],
      "execution_count": 14,
      "outputs": []
    },
    {
      "cell_type": "markdown",
      "metadata": {
        "id": "kz5HhxjwO6dm"
      },
      "source": [
        "### Playing the game"
      ]
    },
    {
      "cell_type": "code",
      "metadata": {
        "id": "4IuQzosDO6dm"
      },
      "source": [
        "sess.run(tf.global_variables_initializer())"
      ],
      "execution_count": 15,
      "outputs": []
    },
    {
      "cell_type": "code",
      "metadata": {
        "id": "5yym2bV-O6dm"
      },
      "source": [
        "def generate_session(env, t_max=1000, epsilon=0, train=False):\n",
        "    \"\"\"play env with approximate q-learning agent and train it at the same time\"\"\"\n",
        "    total_reward = 0\n",
        "    s = env.reset()\n",
        "    \n",
        "    for t in range(t_max):\n",
        "        a = get_action(s, epsilon=epsilon)       \n",
        "        next_s, r, done, _ = env.step(a)\n",
        "        \n",
        "        if train:\n",
        "            sess.run(train_step,{\n",
        "                states_ph: [s], actions_ph: [a], rewards_ph: [r], \n",
        "                next_states_ph: [next_s], is_done_ph: [done]\n",
        "            })\n",
        "\n",
        "        total_reward += r\n",
        "        s = next_s\n",
        "        if done:\n",
        "            break\n",
        "            \n",
        "    return total_reward"
      ],
      "execution_count": 16,
      "outputs": []
    },
    {
      "cell_type": "code",
      "metadata": {
        "id": "VYJ3jD-wO6dn"
      },
      "source": [
        "epsilon = 0.5"
      ],
      "execution_count": 17,
      "outputs": []
    },
    {
      "cell_type": "code",
      "metadata": {
        "id": "JM1ncX_8O6dn",
        "outputId": "44d0ffd5-9429-4943-e8d1-92359aceaa8f",
        "colab": {
          "base_uri": "https://localhost:8080/"
        }
      },
      "source": [
        "for i in range(1000):\n",
        "    session_rewards = [generate_session(env, epsilon=epsilon, train=True) for _ in range(100)]\n",
        "    print(\"epoch #{}\\tmean reward = {:.3f}\\tepsilon = {:.3f}\".format(i, np.mean(session_rewards), epsilon))\n",
        "    \n",
        "    epsilon *= 0.99\n",
        "    assert epsilon >= 1e-4, \"Make sure epsilon is always nonzero during training\"\n",
        "    \n",
        "    if np.mean(session_rewards) > 300:\n",
        "        print(\"You Win!\")\n",
        "        break"
      ],
      "execution_count": 18,
      "outputs": [
        {
          "output_type": "stream",
          "text": [
            "epoch #0\tmean reward = 12.370\tepsilon = 0.500\n",
            "epoch #1\tmean reward = 13.100\tepsilon = 0.495\n",
            "epoch #2\tmean reward = 13.220\tepsilon = 0.490\n",
            "epoch #3\tmean reward = 13.150\tepsilon = 0.485\n",
            "epoch #4\tmean reward = 14.460\tepsilon = 0.480\n",
            "epoch #5\tmean reward = 13.740\tepsilon = 0.475\n",
            "epoch #6\tmean reward = 13.620\tepsilon = 0.471\n",
            "epoch #7\tmean reward = 12.890\tepsilon = 0.466\n",
            "epoch #8\tmean reward = 12.840\tepsilon = 0.461\n",
            "epoch #9\tmean reward = 12.680\tepsilon = 0.457\n",
            "epoch #10\tmean reward = 12.920\tepsilon = 0.452\n",
            "epoch #11\tmean reward = 12.510\tepsilon = 0.448\n",
            "epoch #12\tmean reward = 12.950\tepsilon = 0.443\n",
            "epoch #13\tmean reward = 13.210\tepsilon = 0.439\n",
            "epoch #14\tmean reward = 12.810\tepsilon = 0.434\n",
            "epoch #15\tmean reward = 13.440\tepsilon = 0.430\n",
            "epoch #16\tmean reward = 17.690\tepsilon = 0.426\n",
            "epoch #17\tmean reward = 25.470\tepsilon = 0.421\n",
            "epoch #18\tmean reward = 12.050\tepsilon = 0.417\n",
            "epoch #19\tmean reward = 12.990\tepsilon = 0.413\n",
            "epoch #20\tmean reward = 12.840\tepsilon = 0.409\n",
            "epoch #21\tmean reward = 12.450\tepsilon = 0.405\n",
            "epoch #22\tmean reward = 13.920\tepsilon = 0.401\n",
            "epoch #23\tmean reward = 18.400\tepsilon = 0.397\n",
            "epoch #24\tmean reward = 11.830\tepsilon = 0.393\n",
            "epoch #25\tmean reward = 12.680\tepsilon = 0.389\n",
            "epoch #26\tmean reward = 12.220\tepsilon = 0.385\n",
            "epoch #27\tmean reward = 12.670\tepsilon = 0.381\n",
            "epoch #28\tmean reward = 22.000\tepsilon = 0.377\n",
            "epoch #29\tmean reward = 12.050\tepsilon = 0.374\n",
            "epoch #30\tmean reward = 12.100\tepsilon = 0.370\n",
            "epoch #31\tmean reward = 12.280\tepsilon = 0.366\n",
            "epoch #32\tmean reward = 12.310\tepsilon = 0.362\n",
            "epoch #33\tmean reward = 11.890\tepsilon = 0.359\n",
            "epoch #34\tmean reward = 17.580\tepsilon = 0.355\n",
            "epoch #35\tmean reward = 11.710\tepsilon = 0.352\n",
            "epoch #36\tmean reward = 12.480\tepsilon = 0.348\n",
            "epoch #37\tmean reward = 11.930\tepsilon = 0.345\n",
            "epoch #38\tmean reward = 18.240\tepsilon = 0.341\n",
            "epoch #39\tmean reward = 18.990\tepsilon = 0.338\n",
            "epoch #40\tmean reward = 12.090\tepsilon = 0.334\n",
            "epoch #41\tmean reward = 11.720\tepsilon = 0.331\n",
            "epoch #42\tmean reward = 11.540\tepsilon = 0.328\n",
            "epoch #43\tmean reward = 16.000\tepsilon = 0.325\n",
            "epoch #44\tmean reward = 11.680\tepsilon = 0.321\n",
            "epoch #45\tmean reward = 11.710\tepsilon = 0.318\n",
            "epoch #46\tmean reward = 11.510\tepsilon = 0.315\n",
            "epoch #47\tmean reward = 20.260\tepsilon = 0.312\n",
            "epoch #48\tmean reward = 11.250\tepsilon = 0.309\n",
            "epoch #49\tmean reward = 11.860\tepsilon = 0.306\n",
            "epoch #50\tmean reward = 12.370\tepsilon = 0.303\n",
            "epoch #51\tmean reward = 22.350\tepsilon = 0.299\n",
            "epoch #52\tmean reward = 11.170\tepsilon = 0.296\n",
            "epoch #53\tmean reward = 11.400\tepsilon = 0.294\n",
            "epoch #54\tmean reward = 37.650\tepsilon = 0.291\n",
            "epoch #55\tmean reward = 47.510\tepsilon = 0.288\n",
            "epoch #56\tmean reward = 29.680\tepsilon = 0.285\n",
            "epoch #57\tmean reward = 20.000\tepsilon = 0.282\n",
            "epoch #58\tmean reward = 19.640\tepsilon = 0.279\n",
            "epoch #59\tmean reward = 20.990\tepsilon = 0.276\n",
            "epoch #60\tmean reward = 31.480\tepsilon = 0.274\n",
            "epoch #61\tmean reward = 21.720\tepsilon = 0.271\n",
            "epoch #62\tmean reward = 27.690\tepsilon = 0.268\n",
            "epoch #63\tmean reward = 17.050\tepsilon = 0.265\n",
            "epoch #64\tmean reward = 24.950\tepsilon = 0.263\n",
            "epoch #65\tmean reward = 31.060\tepsilon = 0.260\n",
            "epoch #66\tmean reward = 18.940\tepsilon = 0.258\n",
            "epoch #67\tmean reward = 25.000\tepsilon = 0.255\n",
            "epoch #68\tmean reward = 23.280\tepsilon = 0.252\n",
            "epoch #69\tmean reward = 22.330\tepsilon = 0.250\n",
            "epoch #70\tmean reward = 23.170\tepsilon = 0.247\n",
            "epoch #71\tmean reward = 22.830\tepsilon = 0.245\n",
            "epoch #72\tmean reward = 19.690\tepsilon = 0.242\n",
            "epoch #73\tmean reward = 24.710\tepsilon = 0.240\n",
            "epoch #74\tmean reward = 17.550\tepsilon = 0.238\n",
            "epoch #75\tmean reward = 31.250\tepsilon = 0.235\n",
            "epoch #76\tmean reward = 30.730\tepsilon = 0.233\n",
            "epoch #77\tmean reward = 56.080\tepsilon = 0.231\n",
            "epoch #78\tmean reward = 54.560\tepsilon = 0.228\n",
            "epoch #79\tmean reward = 28.150\tepsilon = 0.226\n",
            "epoch #80\tmean reward = 29.420\tepsilon = 0.224\n",
            "epoch #81\tmean reward = 36.220\tepsilon = 0.222\n",
            "epoch #82\tmean reward = 39.320\tepsilon = 0.219\n",
            "epoch #83\tmean reward = 34.490\tepsilon = 0.217\n",
            "epoch #84\tmean reward = 49.180\tepsilon = 0.215\n",
            "epoch #85\tmean reward = 75.180\tepsilon = 0.213\n",
            "epoch #86\tmean reward = 88.980\tepsilon = 0.211\n",
            "epoch #87\tmean reward = 79.980\tepsilon = 0.209\n",
            "epoch #88\tmean reward = 61.780\tepsilon = 0.206\n",
            "epoch #89\tmean reward = 93.960\tepsilon = 0.204\n",
            "epoch #90\tmean reward = 44.020\tepsilon = 0.202\n",
            "epoch #91\tmean reward = 99.980\tepsilon = 0.200\n",
            "epoch #92\tmean reward = 114.450\tepsilon = 0.198\n",
            "epoch #93\tmean reward = 96.250\tepsilon = 0.196\n",
            "epoch #94\tmean reward = 115.200\tepsilon = 0.194\n",
            "epoch #95\tmean reward = 136.180\tepsilon = 0.192\n",
            "epoch #96\tmean reward = 70.150\tepsilon = 0.191\n",
            "epoch #97\tmean reward = 10.990\tepsilon = 0.189\n",
            "epoch #98\tmean reward = 27.520\tepsilon = 0.187\n",
            "epoch #99\tmean reward = 12.500\tepsilon = 0.185\n",
            "epoch #100\tmean reward = 13.390\tepsilon = 0.183\n",
            "epoch #101\tmean reward = 50.180\tepsilon = 0.181\n",
            "epoch #102\tmean reward = 142.140\tepsilon = 0.179\n",
            "epoch #103\tmean reward = 46.480\tepsilon = 0.178\n",
            "epoch #104\tmean reward = 128.000\tepsilon = 0.176\n",
            "epoch #105\tmean reward = 135.300\tepsilon = 0.174\n",
            "epoch #106\tmean reward = 93.460\tepsilon = 0.172\n",
            "epoch #107\tmean reward = 78.640\tepsilon = 0.171\n",
            "epoch #108\tmean reward = 112.860\tepsilon = 0.169\n",
            "epoch #109\tmean reward = 98.360\tepsilon = 0.167\n",
            "epoch #110\tmean reward = 119.110\tepsilon = 0.166\n",
            "epoch #111\tmean reward = 137.260\tepsilon = 0.164\n",
            "epoch #112\tmean reward = 139.870\tepsilon = 0.162\n",
            "epoch #113\tmean reward = 100.980\tepsilon = 0.161\n",
            "epoch #114\tmean reward = 111.810\tepsilon = 0.159\n",
            "epoch #115\tmean reward = 112.030\tepsilon = 0.157\n",
            "epoch #116\tmean reward = 104.280\tepsilon = 0.156\n",
            "epoch #117\tmean reward = 105.680\tepsilon = 0.154\n",
            "epoch #118\tmean reward = 103.580\tepsilon = 0.153\n",
            "epoch #119\tmean reward = 104.970\tepsilon = 0.151\n",
            "epoch #120\tmean reward = 111.090\tepsilon = 0.150\n",
            "epoch #121\tmean reward = 115.200\tepsilon = 0.148\n",
            "epoch #122\tmean reward = 123.440\tepsilon = 0.147\n",
            "epoch #123\tmean reward = 145.040\tepsilon = 0.145\n",
            "epoch #124\tmean reward = 193.130\tepsilon = 0.144\n",
            "epoch #125\tmean reward = 250.140\tepsilon = 0.142\n",
            "epoch #126\tmean reward = 319.530\tepsilon = 0.141\n",
            "You Win!\n"
          ],
          "name": "stdout"
        }
      ]
    },
    {
      "cell_type": "markdown",
      "metadata": {
        "id": "ewTZ7ugyO6do"
      },
      "source": [
        "### How to interpret results\n",
        "\n",
        "\n",
        "Welcome to the f.. world of deep f...n reinforcement learning. Don't expect agent's reward to smoothly go up. Hope for it to go increase eventually. If it deems you worthy.\n",
        "\n",
        "Seriously though,\n",
        "* __ mean reward__ is the average reward per game. For a correct implementation it may stay low for some 10 epochs, then start growing while oscilating insanely and converges by ~50-100 steps depending on the network architecture. \n",
        "* If it never reaches target score by the end of for loop, try increasing the number of hidden neurons or look at the epsilon.\n",
        "* __ epsilon__ - agent's willingness to explore. If you see that agent's already at < 0.01 epsilon before it's is at least 200, just reset it back to 0.1 - 0.5."
      ]
    },
    {
      "cell_type": "markdown",
      "metadata": {
        "id": "gu5t5IhQO6do"
      },
      "source": [
        "### Record videos\n",
        "\n",
        "As usual, we now use `gym.wrappers.Monitor` to record a video of our agent playing the game. Unlike our previous attempts with state binarization, this time we expect our agent to act ~~(or fail)~~ more smoothly since there's no more binarization error at play.\n",
        "\n",
        "As you already did with tabular q-learning, we set epsilon=0 for final evaluation to prevent agent from exploring himself to death."
      ]
    },
    {
      "cell_type": "code",
      "metadata": {
        "id": "ajKWDsYzO6dp"
      },
      "source": [
        "# Record sessions\n",
        "\n",
        "import gym.wrappers\n",
        "\n",
        "with gym.wrappers.Monitor(gym.make(\"CartPole-v0\"), directory=\"videos\", force=True) as env_monitor:\n",
        "    sessions = [generate_session(env_monitor, epsilon=0, train=False) for _ in range(100)]"
      ],
      "execution_count": 21,
      "outputs": []
    },
    {
      "cell_type": "code",
      "metadata": {
        "id": "A7ws9VQoO6dp",
        "outputId": "1ae011d7-d07c-4616-dc28-a35ebe3175c0",
        "colab": {
          "resources": {
            "http://localhost:8080/videos/openaigym.video.1.60.video000064.mp4": {
              "data": "CjwhRE9DVFlQRSBodG1sPgo8aHRtbCBsYW5nPWVuPgogIDxtZXRhIGNoYXJzZXQ9dXRmLTg+CiAgPG1ldGEgbmFtZT12aWV3cG9ydCBjb250ZW50PSJpbml0aWFsLXNjYWxlPTEsIG1pbmltdW0tc2NhbGU9MSwgd2lkdGg9ZGV2aWNlLXdpZHRoIj4KICA8dGl0bGU+RXJyb3IgNDA0IChOb3QgRm91bmQpISExPC90aXRsZT4KICA8c3R5bGU+CiAgICAqe21hcmdpbjowO3BhZGRpbmc6MH1odG1sLGNvZGV7Zm9udDoxNXB4LzIycHggYXJpYWwsc2Fucy1zZXJpZn1odG1se2JhY2tncm91bmQ6I2ZmZjtjb2xvcjojMjIyO3BhZGRpbmc6MTVweH1ib2R5e21hcmdpbjo3JSBhdXRvIDA7bWF4LXdpZHRoOjM5MHB4O21pbi1oZWlnaHQ6MTgwcHg7cGFkZGluZzozMHB4IDAgMTVweH0qID4gYm9keXtiYWNrZ3JvdW5kOnVybCgvL3d3dy5nb29nbGUuY29tL2ltYWdlcy9lcnJvcnMvcm9ib3QucG5nKSAxMDAlIDVweCBuby1yZXBlYXQ7cGFkZGluZy1yaWdodDoyMDVweH1we21hcmdpbjoxMXB4IDAgMjJweDtvdmVyZmxvdzpoaWRkZW59aW5ze2NvbG9yOiM3Nzc7dGV4dC1kZWNvcmF0aW9uOm5vbmV9YSBpbWd7Ym9yZGVyOjB9QG1lZGlhIHNjcmVlbiBhbmQgKG1heC13aWR0aDo3NzJweCl7Ym9keXtiYWNrZ3JvdW5kOm5vbmU7bWFyZ2luLXRvcDowO21heC13aWR0aDpub25lO3BhZGRpbmctcmlnaHQ6MH19I2xvZ297YmFja2dyb3VuZDp1cmwoLy93d3cuZ29vZ2xlLmNvbS9pbWFnZXMvbG9nb3MvZXJyb3JwYWdlL2Vycm9yX2xvZ28tMTUweDU0LnBuZykgbm8tcmVwZWF0O21hcmdpbi1sZWZ0Oi01cHh9QG1lZGlhIG9ubHkgc2NyZWVuIGFuZCAobWluLXJlc29sdXRpb246MTkyZHBpKXsjbG9nb3tiYWNrZ3JvdW5kOnVybCgvL3d3dy5nb29nbGUuY29tL2ltYWdlcy9sb2dvcy9lcnJvcnBhZ2UvZXJyb3JfbG9nby0xNTB4NTQtMngucG5nKSBuby1yZXBlYXQgMCUgMCUvMTAwJSAxMDAlOy1tb3otYm9yZGVyLWltYWdlOnVybCgvL3d3dy5nb29nbGUuY29tL2ltYWdlcy9sb2dvcy9lcnJvcnBhZ2UvZXJyb3JfbG9nby0xNTB4NTQtMngucG5nKSAwfX1AbWVkaWEgb25seSBzY3JlZW4gYW5kICgtd2Via2l0LW1pbi1kZXZpY2UtcGl4ZWwtcmF0aW86Mil7I2xvZ297YmFja2dyb3VuZDp1cmwoLy93d3cuZ29vZ2xlLmNvbS9pbWFnZXMvbG9nb3MvZXJyb3JwYWdlL2Vycm9yX2xvZ28tMTUweDU0LTJ4LnBuZykgbm8tcmVwZWF0Oy13ZWJraXQtYmFja2dyb3VuZC1zaXplOjEwMCUgMTAwJX19I2xvZ297ZGlzcGxheTppbmxpbmUtYmxvY2s7aGVpZ2h0OjU0cHg7d2lkdGg6MTUwcHh9CiAgPC9zdHlsZT4KICA8YSBocmVmPS8vd3d3Lmdvb2dsZS5jb20vPjxzcGFuIGlkPWxvZ28gYXJpYS1sYWJlbD1Hb29nbGU+PC9zcGFuPjwvYT4KICA8cD48Yj40MDQuPC9iPiA8aW5zPlRoYXTigJlzIGFuIGVycm9yLjwvaW5zPgogIDxwPiAgPGlucz5UaGF04oCZcyBhbGwgd2Uga25vdy48L2lucz4K",
              "ok": false,
              "headers": [
                [
                  "content-length",
                  "1449"
                ],
                [
                  "content-type",
                  "text/html; charset=utf-8"
                ]
              ],
              "status": 404,
              "status_text": ""
            }
          },
          "base_uri": "https://localhost:8080/",
          "height": 501
        }
      },
      "source": [
        "# Show video. This may not work in some setups. If it doesn't\n",
        "# work for you, you can download the videos and view them locally.\n",
        "\n",
        "from pathlib import Path\n",
        "from IPython.display import HTML\n",
        "\n",
        "video_names = sorted([s for s in Path('videos').iterdir() if s.suffix == '.mp4'])\n",
        "\n",
        "HTML(\"\"\"\n",
        "<video width=\"640\" height=\"480\" controls>\n",
        "  <source src=\"{}\" type=\"video/mp4\">\n",
        "</video>\n",
        "\"\"\".format(video_names[-1]))  # You can also try other indices"
      ],
      "execution_count": 22,
      "outputs": [
        {
          "output_type": "execute_result",
          "data": {
            "text/html": [
              "\n",
              "<video width=\"640\" height=\"480\" controls>\n",
              "  <source src=\"videos/openaigym.video.1.60.video000064.mp4\" type=\"video/mp4\">\n",
              "</video>\n"
            ],
            "text/plain": [
              "<IPython.core.display.HTML object>"
            ]
          },
          "metadata": {
            "tags": []
          },
          "execution_count": 22
        }
      ]
    },
    {
      "cell_type": "code",
      "metadata": {
        "id": "f9J48Y9TO6dp",
        "outputId": "2c6fa899-7560-4599-c82f-33522aa04c74",
        "colab": {
          "base_uri": "https://localhost:8080/",
          "height": 288
        }
      },
      "source": [
        "from IPython.display import HTML\n",
        "from base64 import b64encode\n",
        "mp4 = open(video_names[0],'rb').read()\n",
        "data_url = \"data:video/mp4;base64,\" + b64encode(mp4).decode()\n",
        "HTML(\"\"\"\n",
        "<video width=400 controls>\n",
        "      <source src=\"%s\" type=\"video/mp4\">\n",
        "</video>\n",
        "\"\"\" % data_url)"
      ],
      "execution_count": 23,
      "outputs": [
        {
          "output_type": "execute_result",
          "data": {
            "text/html": [
              "\n",
              "<video width=400 controls>\n",
              "      <source src=\"data:video/mp4;base64,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\" type=\"video/mp4\">\n",
              "</video>\n"
            ],
            "text/plain": [
              "<IPython.core.display.HTML object>"
            ]
          },
          "metadata": {
            "tags": []
          },
          "execution_count": 23
        }
      ]
    },
    {
      "cell_type": "markdown",
      "metadata": {
        "id": "Yte0qsXfO6dp"
      },
      "source": [
        "---"
      ]
    },
    {
      "cell_type": "markdown",
      "metadata": {
        "id": "xjRAP8ElO6dq"
      },
      "source": [
        "### Submit to coursera"
      ]
    },
    {
      "cell_type": "code",
      "metadata": {
        "id": "NhrO_VVgO6dq",
        "outputId": "9a168f8a-7a91-4ab7-ab68-e55b2bffa6e9",
        "colab": {
          "base_uri": "https://localhost:8080/"
        }
      },
      "source": [
        "from submit import submit_cartpole\n",
        "submit_cartpole(generate_session, 'Armanbehnam1996@gmail.com', 'VjvpZEeaCI1brbiB')"
      ],
      "execution_count": 24,
      "outputs": [
        {
          "output_type": "stream",
          "text": [
            "Your average reward is 483.5 over 100 episodes\n",
            "Submitted to Coursera platform. See results on assignment page!\n"
          ],
          "name": "stdout"
        }
      ]
    },
    {
      "cell_type": "code",
      "metadata": {
        "id": "jpEbzbmgTBJ0"
      },
      "source": [
        ""
      ],
      "execution_count": null,
      "outputs": []
    }
  ]
}